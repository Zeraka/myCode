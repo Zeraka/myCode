{
 "cells": [
  {
   "cell_type": "code",
   "execution_count": 100,
   "metadata": {},
   "outputs": [
    {
     "name": "stdout",
     "output_type": "stream",
     "text": [
      "☀清新夏日☀清新男声控|我想漂浮感受磁场##欧美,电子,另类/独立##423245641##11355\t414691355:::Lost (As I Am):::Superwalkers:::80.0\t410802620:::Next Escape:::Viceroy:::100.0\t419549837:::Silhouette:::Goldroom:::60.0\t419485281:::Feel My Love:::Jake Quickenden:::45.0\t412016420:::Hit It:::Teasley:::65.0\t421160284:::Catch U:::DEAMN:::85.0\t420513422:::Breathe It In:::Cyrus Thomas:::30.0\t420500507:::Tropical Suneo:::Alex Parker:::80.0\t421203274:::New Age:::Softer Still:::55.0\t416933311:::Moments:::KEV:::25.0\t33340138:::Hideaway:::KYKO:::25.0\t421423368:::Do It Right:::Rainer:::100.0\t30870137:::Somebody Like You:::Max Elto:::50.0\t407838716:::When We Were Young:::The Wild Wild:::25.0\t417908273:::We Got U:::Lemâitre:::65.0\t418316404:::pink skies:::LANY:::100.0\t414670117:::Waste Away:::Lost System:::65.0\t418602540:::Happy (Extended Mix):::Burak Yeter:::85.0\t420500511:::Lost:::Pawl:::80.0\t412268350:::Easy Lover:::Panama Wedding:::65.0\t34899626:::Found Your Love:::Oliver Nelson:::100.0\t416531764:::Bubblegum:::Totem:::85.0\t29483200:::Hold Me:::Gold Fields:::95.0\t419238656:::Too Much:::Teasley:::40.0\t37240741:::Fever:::Lenno:::100.0\t38846209:::ILYSB:::LANY:::90.0\t36921820:::Sing:::The Wild Wild:::45.0\t418654949:::Straight On Till Morning:::Xavier Dunn:::25.0\t421203736:::Get up Everybody! (Viva La Vida):::Ektor Pan:::45.0\t418603101:::The Best Crew:::Tep No:::85.0\n",
      "\n",
      "带本书去旅行吧,人生最美好的时光在路上。##旅行,钢琴,安静##111450065##10882\t29738501:::跟着你到天边 钢琴版:::群星:::40.0\t33544451:::Dawn (电影《傲慢与偏见》插曲):::Jean-yves Thibaudet:::95.0\t82159:::送别(长版):::范宗沛:::10.0\t27902104:::稻香:::群星:::95.0\t31134629:::《夜色钢琴曲》夜空中最亮的星:::赵海洋:::95.0\t254352:::千万人之中(钢琴独奏):::刘若英:::55.0\t174462:::我爱你中国钢琴版:::徐鲤:::55.0\t34923884:::VI. June: Barcarolle (柴可夫斯基 四季 - 六月):::郎朗:::60.0\t254355:::你也在这里吗(钢琴独奏):::刘若英:::80.0\t29800739:::匈牙利狂想曲第二首:::群星:::70.0\t201873:::风云(钢琴版):::周思贤:::90.0\t28557031:::花黄瘦:::Pure Morning:::90.0\t139177:::秋～華恋～:::α·Pav:::100.0\t511369:::春よ、来い:::SMOOTH J:::100.0\t25813883:::降B小调第一钢琴协奏曲作品第23号 20:::彼得.伊里奇.柴可夫斯基:::95.0\t27901399:::C大调 克列门蒂小奏鸣曲 Op.36.No.1:::Various Artists:::65.0\t25901083:::C小调第二钢琴协奏曲·作品18号：第一乐章:::Rachmaninov:::85.0\t493981:::彩月​-​Sai​-​getsu-:::Otokaze:::100.0\t33875522:::When The Love Falls( 雨声版) :::Yiruma:::100.0\t27901400:::贝多芬第8号钢琴奏鸣曲悲伤的第三乐章:::Various Artists:::100.0\t5232743:::门德尔松G小调第一钢琴协奏曲:::群星:::70.0\t34125820:::匆匆那年 - 钢琴版:::赵海洋:::95.0\t25776362:::怒吼吧! 黄河:::殷承宗:::35.0\t31134431:::金蛇狂舞:::李云迪:::70.0\t106556:::夏天来了(乐曲):::蒋勋:::5.0\t30569625:::野蜂飞舞:::Yuja Wang:::80.0\t5253399:::Sonata I G-du 罗西尼弦乐奏鸣曲:::群星:::25.0\t34516399:::序曲与轮旋随想曲:::Charles Camille Saint-Saens:::75.0\t28860124:::夜谈:::燕池:::85.0\t185837:::湘伦小雨四手联弹:::周杰伦:::100.0\t28411853:::黑键变白键:::群星:::75.0\t185835:::斗琴:::周杰伦:::100.0\t28411857:::肖邦圆舞曲:::群星:::95.0\t5270155:::眼泪:::风潮唱片:::25.0\t29796081:::车尔尼钢琴手指灵巧练习曲1:::群星:::50.0\t110234:::微光角落:::林海:::25.0\t174705:::破碎的回旋曲:::薛啸秋:::60.0\t106540:::秋光奏鸣曲(乐曲):::蒋勋:::5.0\t114670:::拉赫玛尼诺夫 帕格尼尼主题狂想曲第18变奏:::郎朗:::85.0\t29966843:::莫扎特第二十一钢琴协奏曲:::Robert Bonfiglio:::80.0\t34923888:::XI. November: Troika (柴可夫斯基 四季 - 十一月):::郎朗:::25.0\t5188837:::Canon (Over a Basso Ostinato):::Peerless 2x2:::100.0\t33544468:::Leaving Netherfield (电影《傲慢与偏见》插曲):::Jean-yves Thibaudet:::50.0\t1871800:::偲芳歌 (Piano Solo):::梁邦彦:::85.0\t25892478:::钢琴课:是否真的开心/尼曼:::Soundtrack:::70.0\t5057917:::Forrest Gump Suite:::Alan Silvestri:::100.0\t104454:::上海梦:::江天:::25.0\t238905:::橘色温度:::何真真:::25.0\t380341:::牧童短笛:::石叔诚:::60.0\t25892495:::朱迪丝瑞的单恋：G大调钢琴三重奏K.564/莫扎特:::群星:::45.0\t116718:::彩云追月:::李云迪:::95.0\t25640681:::Tristesse离别练习曲(Natasha Bedingfield版本):::郎朗:::50.0\t238902:::起风前的相遇(秋):::何真真:::25.0\t115051:::莫扎特C大调钢琴奏鸣曲.K.330 中速的快板:::郎朗:::90.0\t29012063:::降E大调第九号钢琴协奏曲K271第三乐章(回旋曲):::牛牛:::40.0\t5117520:::巴哈:平均律键盘曲,C大调第一号前奏曲:::Various Artists:::40.0\t26420143:::月光奏鸣曲(白日夢的钢琴与大提琴重奏版):::风潮唱片:::15.0\t5160792:::舒伯特:D大调第17钢琴奏鸣曲 第四乐章《给我摇摆,其余免谈》.《海边的卡夫卡》:::Various Artists:::80.0\t5160829:::献给戴比的华尔兹:::Various Artists:::45.0\t174703:::卡农的幻想:::薛啸秋:::95.0\t117240:::肖邦：夜曲，Op.9,No.2:::李云迪:::100.0\t5268173:::peaceful life:::班得瑞:::95.0\t5259740:::天鹅 大提琴与钢琴:::群星:::70.0\t5276810:::少女的祈祷:::芭兰诺芙丝卡:::100.0\t117231:::舒曼：梦幻曲:::李云迪:::95.0\t5266271:::爱之梦:::李斯特:::75.0\t82518:::棕发女郎:::傅聪:::45.0\t149240:::下雨时你会想起谁:::石进:::90.0\t103035:::碎月雨中奏:::iw ix:::100.0\t582670:::孤灯:::平井真美子:::100.0\t28406526:::我在那一角落患过伤风(钢琴版):::群星:::100.0\t185859:::小雨写立可白Ⅰ:::周杰伦:::100.0\t26508242:::你离开了南京，从此没有人和我说话:::李志:::100.0\t5035861:::星空のピアニスト:::理查德.克莱德曼:::100.0\t211250:::绿野仙踪:::陈悦:::100.0\t110118:::远方的寂静:::林海:::85.0\t391119:::萤火虫之舞:::萤火虫:::75.0\t27949262:::Neyanbhbin(悲伤天使):::伊戈尔.克鲁托伊:::90.0\t25806118:::涙の物語:::有里知花:::90.0\t406686:::千と千寻の神隠し:いつも何度でも:::Chieko Kinbara:::100.0\t528284:::想い出は远くの日々:::天門:::100.0\t668928:::时の薫り:::西村由紀江:::100.0\t448065:::孤独な巡礼:::川井憲次:::100.0\t3951353:::Snowdream:::班得瑞:::100.0\t31066727:::《夜色钢琴曲》Tears 眼泪:::赵海洋:::95.0\t4877790:::我等候你(钢琴独奏):::群星:::100.0\t27552102:::没有出口的迷宫:::V.K克:::90.0\t493911:::夏恋:::Otokaze:::100.0\t29719972:::梦之安魂曲(钢琴版):::群星:::70.0\t26402370:::咪咪:::风潮唱片:::15.0\t185852:::路小雨:::周杰伦:::100.0\t149297:::夜的钢琴曲五:::石进:::100.0\t74505:::请不要爱我(小说音乐):::陈光荣:::95.0\t28160230:::优美的小调(钢琴曲):::张宇桦:::100.0\t26524326:::被时光移动的城市:::石进:::100.0\t5264717:::梦中的婚礼:::群星:::100.0\t180278:::贝多芬：献给爱丽丝:::尤大淳:::95.0\t96676:::如诗般 宁静(钢琴长版):::黄永灿:::50.0\t5271814:::与美丽纠缠Get entangled in beauty:::群星:::90.0\t817880:::沉醉于风中:::S.E.N.S.:::100.0\t28535311:::天之痕(钢琴版):::群星:::100.0\t442454:::人生的回转木马:::久石譲:::100.0\t103027:::天空之城（钢琴版）（Cover：久石让）:::iw ix:::100.0\t103301:::拥有Masbfca (广告配乐完整版):::几米:::100.0\t392918:::从夏天开始到夏天结束:::Instrumental:::95.0\t68695:::对不起,我爱你(钢琴版):::陈冠宇:::90.0\t139730:::安静的午后:::Pianoboy:::100.0\t28718074:::忧伤还是快乐:::K. Williams:::100.0\t5412353:::爱在四月雪:::赵成宇:::95.0\t185874:::菊花台(杰伦钢琴演奏版):::周杰伦:::100.0\t625671:::火宵の月・テーマ~ピアノソロ:::中村由利子:::100.0\t394245:::我记得我爱过(钢琴版):::群星:::75.0\t25982717:::Road to Freedom  归途:::金培达:::100.0\t25876796:::「一枝梅」花信:::中村由利子:::100.0\t127779:::涟漪:::Lawrence:::100.0\t164792:::白月光:::王崴:::95.0\t116493:::白昼之夜:::林隆璇:::100.0\t27571802:::我的钢琴很简单 (钢琴曲):::雷诺儿:::95.0\t376613:::金子陵 (阿轮钢琴独奏版):::霹雳英雄:::75.0\t5262847:::Pastel reflections 温柔再现:::群星:::45.0\n",
      "\n",
      "『你所知道与不知道的---许巍』##华语,摇滚,民谣##102227390##586\t33469187:::灿烂:::许巍:::100.0\t31010481:::第三极:::许巍:::100.0\t25657380:::空谷幽兰:::许巍:::100.0\t25657384:::世外桃源:::许巍:::100.0\t25657383:::喜悦:::许巍:::100.0\t167766:::难忘的一天:::许巍:::100.0\t167751:::家:::许巍:::100.0\t167802:::旅行:::许巍:::100.0\t167975:::曾经的你:::许巍:::100.0\t167897:::执着:::许巍:::95.0\t167880:::像风一样自由:::许巍:::100.0\t167871:::晴朗:::许巍:::100.0\t5278286:::两天:::许巍:::75.0\t168053:::故乡:::许巍:::100.0\t168091:::蓝莲花:::许巍:::100.0\t168089:::时光:::许巍:::100.0\t168097:::漫步:::许巍:::100.0\t168095:::礼物:::许巍:::90.0\t168153:::那一年:::许巍:::100.0\t168147:::温暖:::许巍:::100.0\t168158:::我的秋天:::许巍:::100.0\t293931:::执着:::田震:::100.0\t293929:::自由自在:::田震:::60.0\t299920:::你:::王菲:::90.0\t108109:::晴朗:::老狼:::95.0\t247442:::潘多拉:::姜昕:::40.0\t247443:::纯粹(向阳花):::姜昕:::45.0\t327613:::来得及的明天:::赵薇:::65.0\t4875303:::琥珀之歌:::刘烨:::50.0\t316009:::彩虹:::叶蓓:::65.0\t249951:::空位:::纪如璟:::80.0\t173809:::像风一样自由:::谢东:::60.0\t310303:::幻觉:::希莉娜依:::25.0\t310299:::丁香:::希莉娜依:::25.0\t205513:::摩擦:::艾敬:::55.0\t29732733:::永隔一江水:::许巍:::100.0\n",
      "\n"
     ]
    }
   ],
   "source": [
    "'''\n",
    "测试一次readline()能读出多少的内容\n",
    "'''\n",
    "\n",
    "import numpy as np\n",
    "import pandas as pd\n",
    "i=0\n",
    "file = open('playlist-music.txt',mode = \"r+\",encoding='utf-8')\n",
    "while(1):\n",
    "    str = file.readline()\n",
    "    print(str)\n",
    "    i+=1\n",
    "    #把文件里的\\t改为 \\n\n",
    "    #str = str.replace(\"\\t\", \"\\n\")\n",
    "    if( i > 2):\n",
    "        break\n",
    "    if(not str):\n",
    "        break\n",
    "file.close()\n"
   ]
  },
  {
   "cell_type": "markdown",
   "metadata": {},
   "source": []
  },
  {
   "cell_type": "markdown",
   "metadata": {},
   "source": [
    "先把文档处理好，把空白的全部变为"
   ]
  },
  {
   "cell_type": "code",
   "execution_count": 93,
   "metadata": {},
   "outputs": [],
   "source": [
    "'''\n",
    "把文本文件处理好，并且生成新的csv格式\n",
    "'''\n",
    "\n",
    "import numpy as np\n",
    "import pandas as pd\n",
    "\n",
    "file = open('playlist-music_01.txt',mode='r+',encoding='utf-8')\n",
    "\n",
    "fileNew = open('playlist-music_02.txt',mode='a',encoding='utf-8')\n",
    "while(1):\n",
    "    str = file.readline()# 这个只是替换为一个新的字符串而已，并不能改变原来的\n",
    "    \n",
    "    #将 \\t 变为 \\n\n",
    "    str = str.replace('\\t', '\\n')\n",
    "    #将 :::变为 \\t\n",
    "    str = str.replace(':::', \"\\t\")\n",
    "    \n",
    "    fileNew.write(str)\n",
    "    #\n",
    "    if(not str):\n",
    "        break\n",
    "file.close()\n",
    "fileNew.close()"
   ]
  },
  {
   "cell_type": "code",
   "execution_count": 114,
   "metadata": {},
   "outputs": [],
   "source": [
    "'''\n",
    "处理csv格式文本\n",
    "'''\n",
    "import numpy as np\n",
    "import pandas as pd\n",
    "\n",
    "file = open('playlist-music_02.txt',mode='r+',encoding='utf-8')\n",
    "\n",
    "fileNew = open('playlist_music_03.txt',mode='a',encoding='utf-8')\n",
    "while(1):\n",
    "    str = file.readline()#\n",
    "    \n",
    "    if \"##\" in str:\n",
    "        str = file.readline()\n",
    "\n",
    "    fileNew.write(str)\n",
    "    \n",
    "    if(not str):\n",
    "        break\n",
    "        \n",
    "file.close()\n",
    "fileNew.close()"
   ]
  },
  {
   "cell_type": "code",
   "execution_count": 121,
   "metadata": {
    "scrolled": false
   },
   "outputs": [
    {
     "name": "stderr",
     "output_type": "stream",
     "text": [
      "C:\\Users\\hanyu\\Anaconda3\\lib\\site-packages\\ipykernel_launcher.py:22: SettingWithCopyWarning: \n",
      "A value is trying to be set on a copy of a slice from a DataFrame.\n",
      "Try using .loc[row_indexer,col_indexer] = value instead\n",
      "\n",
      "See the caveats in the documentation: http://pandas.pydata.org/pandas-docs/stable/indexing.html#indexing-view-versus-copy\n"
     ]
    }
   ],
   "source": [
    "'''\n",
    "先打开txt,再把txt转化为csv\n",
    "\n",
    "'''\n",
    "\n",
    "import numpy as np\n",
    "import pandas as pd \n",
    "\n",
    "#txt文件一样可以读read_csv\n",
    "frame = pd.read_csv(\"playlist_music_03.txt\",sep='\\t',encoding='utf-8',names=['songId','song','singer','hot'],low_memory=False)\n",
    "\n",
    "frame1 = frame.dropna(axis=0,how='any')#去除NAN\n",
    "frame1.sort_values(by='hot')\n",
    "\n",
    "#去除重复项\n",
    "frame2 = frame1.drop_duplicates('songId',keep='first')\n",
    "\n",
    "#group = frame2['hot'].groupby(frame['singer'])\n",
    "\n",
    "\n",
    "#\n",
    "frame2['hot']=frame2['hot'].astype('float64')#转换为float64类型,int64会报错\n",
    "\n",
    "frame2.dtypes#查看数据类型，以便进行转换\n",
    "\n",
    "frame2.to_csv('playlist_music_04.csv')"
   ]
  },
  {
   "cell_type": "code",
   "execution_count": 154,
   "metadata": {},
   "outputs": [
    {
     "name": "stderr",
     "output_type": "stream",
     "text": [
      "C:\\Users\\hanyu\\Anaconda3\\lib\\site-packages\\ipykernel_launcher.py:4: FutureWarning: read_table is deprecated, use read_csv instead.\n",
      "  after removing the cwd from sys.path.\n",
      "C:\\Users\\hanyu\\Anaconda3\\lib\\site-packages\\ipykernel_launcher.py:20: FutureWarning: The signature of `Series.to_csv` was aligned to that of `DataFrame.to_csv`, and argument 'header' will change its default value from False to True: please pass an explicit value to suppress this warning.\n"
     ]
    }
   ],
   "source": [
    "import numpy as np\n",
    "import pandas as pd\n",
    "\n",
    "frame = pd.read_table('data.txt',sep='\\t',encoding='utf-8',names=['song','singer','hot'])\n",
    "\n",
    "#frame2 = frame.drop(columns='Unnamed: 0')#删掉多余的列\n",
    "\n",
    "#group = frame2['hot'].groupby(frame['singer'])\n",
    "#group.mean().sort_values(ascending=False)\n",
    "\n",
    "#sort_values是排值，sort_index是排参数\n",
    "\n",
    "#frame\n",
    "\n",
    "#处理数据\n",
    "group = frame['hot'].groupby(frame['singer'])\n",
    "frame2 = group.mean().sort_values(ascending=False).head(50)\n",
    "\n",
    "#把Series输出\n",
    "frame2.to_csv(\"Top50.csv\")\n",
    "\n"
   ]
  },
  {
   "cell_type": "code",
   "execution_count": 156,
   "metadata": {},
   "outputs": [
    {
     "name": "stderr",
     "output_type": "stream",
     "text": [
      "C:\\Users\\hanyu\\Anaconda3\\lib\\site-packages\\ipykernel_launcher.py:8: FutureWarning: read_table is deprecated, use read_csv instead.\n",
      "  \n",
      "C:\\Users\\hanyu\\Anaconda3\\lib\\site-packages\\ipykernel_launcher.py:24: FutureWarning: The signature of `Series.to_csv` was aligned to that of `DataFrame.to_csv`, and argument 'header' will change its default value from False to True: please pass an explicit value to suppress this warning.\n"
     ]
    }
   ],
   "source": [
    "'''\n",
    "求方差\n",
    "'''\n",
    "\n",
    "import numpy as np\n",
    "import pandas as pd\n",
    "\n",
    "frame = pd.read_table('data.txt',sep='\\t',encoding='utf-8',names=['song','singer','hot'])\n",
    "\n",
    "#frame2 = frame.drop(columns='Unnamed: 0')#删掉多余的列\n",
    "\n",
    "#group = frame2['hot'].groupby(frame['singer'])\n",
    "#group.mean().sort_values(ascending=False)\n",
    "\n",
    "#sort_values是排值，sort_index是排参数\n",
    "\n",
    "#frame\n",
    "\n",
    "#处理数据\n",
    "group = frame['hot'].groupby(frame['singer'])\n",
    "frame2 = group.var().sort_values(ascending=False).head(50)\n",
    "\n",
    "\n",
    "frame2.to_csv(\"dispute50.csv\")"
   ]
  },
  {
   "cell_type": "code",
   "execution_count": 7,
   "metadata": {},
   "outputs": [],
   "source": [
    "'''\n",
    "歌单表\n",
    "'''\n",
    "\n",
    "file=open('playlist-music_02.txt',mode='r+',encoding='utf-8')\n",
    "fileNew = open('playlist.txt',mode='a',encoding='utf-8')\n",
    "while(1):\n",
    "    str=file.readline()\n",
    "    \n",
    "    if \"##\" in str:\n",
    "        str1=str.replace(\"##\",\"\\t\")\n",
    "        fileNew.write(str1)\n",
    "    \n",
    "    if not str:\n",
    "        break\n",
    "        \n",
    "file.close()\n",
    "fileNew.close()"
   ]
  },
  {
   "cell_type": "code",
   "execution_count": 23,
   "metadata": {
    "scrolled": true
   },
   "outputs": [
    {
     "name": "stderr",
     "output_type": "stream",
     "text": [
      "C:\\Users\\hanyu\\Anaconda3\\lib\\site-packages\\ipykernel_launcher.py:13: FutureWarning: The signature of `Series.to_csv` was aligned to that of `DataFrame.to_csv`, and argument 'header' will change its default value from False to True: please pass an explicit value to suppress this warning.\n",
      "  del sys.path[0]\n"
     ]
    }
   ],
   "source": [
    "'''\n",
    "操作歌单表\n",
    "'''\n",
    "import numpy as np\n",
    "import pandas as pd\n",
    "\n",
    "frame=pd.read_csv(\"playlist.csv\",encoding='utf-8')\n",
    "\n",
    "\n",
    "frame['collection'].astype(\"int64\")\n",
    "frame2= frame['collection'].groupby(frame['sort']).mean()\n",
    "#frame.dtypes\n",
    "#df['Customer Number'].astype(\"int\")\n",
    "\n",
    "frame2.to_csv(\"不同分类歌单收藏数均值.csv\")"
   ]
  },
  {
   "cell_type": "code",
   "execution_count": 29,
   "metadata": {},
   "outputs": [
    {
     "name": "stderr",
     "output_type": "stream",
     "text": [
      "C:\\Users\\hanyu\\Anaconda3\\lib\\site-packages\\ipykernel_launcher.py:13: FutureWarning: The signature of `Series.to_csv` was aligned to that of `DataFrame.to_csv`, and argument 'header' will change its default value from False to True: please pass an explicit value to suppress this warning.\n",
      "  del sys.path[0]\n"
     ]
    },
    {
     "data": {
      "text/plain": [
       "sort\n",
       "00后               508.000000\n",
       "00后,儿童,欧美         966.000000\n",
       "00后,华语           4561.000000\n",
       "00后,华语,流行        2413.000000\n",
       "00后,地铁            251.000000\n",
       "00后,怀旧,90后       4622.000000\n",
       "00后,游戏,舞曲        1567.000000\n",
       "00后,网络歌曲,ACG     9042.000000\n",
       "00后,舞曲,快乐         125.000000\n",
       "70后               330.666667\n",
       "70后,80后           305.000000\n",
       "70后,80后,90后      2015.000000\n",
       "70后,80后,影视原声      106.000000\n",
       "70后,80后,怀旧       2879.000000\n",
       "70后,80后,欧美        162.000000\n",
       "70后,80后,经典       1346.333333\n",
       "70后,华语,驾车         125.000000\n",
       "70后,怀旧            241.666667\n",
       "70后,怀旧,华语         822.500000\n",
       "70后,怀旧,民族         497.000000\n",
       "70后,怀旧,经典         197.500000\n",
       "70后,摇滚,英伦         302.000000\n",
       "70后,榜单,经典        1067.000000\n",
       "70后,民族,华语        1568.000000\n",
       "70后,治愈,欧美       71393.000000\n",
       "70后,经典,感动         282.000000\n",
       "70后,经典,翻唱         107.000000\n",
       "70后,经典,驾车         379.000000\n",
       "70后,运动,驾车        1028.000000\n",
       "80后               621.400000\n",
       "                    ...     \n",
       "驾车,电子,游戏         1458.666667\n",
       "驾车,电子,蓝调          115.000000\n",
       "驾车,电子,运动          145.000000\n",
       "驾车,经典,民族         2371.000000\n",
       "驾车,翻唱,华语          811.000000\n",
       "驾车,舞曲,华语        33861.000000\n",
       "驾车,舞曲,放松         1747.000000\n",
       "驾车,舞曲,电子        24446.000000\n",
       "驾车,舞曲,运动         4789.000000\n",
       "驾车,轻音乐,快乐         300.000000\n",
       "驾车,运动            2883.000000\n",
       "驾车,运动,兴奋         1277.000000\n",
       "驾车,运动,怀旧         1686.000000\n",
       "驾车,运动,性感          725.000000\n",
       "驾车,运动,旅行          304.333333\n",
       "驾车,运动,流行          693.000000\n",
       "驾车,运动,游戏         1535.000000\n",
       "驾车,运动,电子         8870.666667\n",
       "驾车,运动,酒吧          910.000000\n",
       "驾车,酒吧            1093.500000\n",
       "驾车,酒吧,KTV         649.000000\n",
       "驾车,酒吧,兴奋          641.000000\n",
       "驾车,酒吧,夜晚          670.000000\n",
       "驾车,酒吧,摇滚         1325.500000\n",
       "驾车,酒吧,电子         7313.500000\n",
       "驾车,酒吧,舞曲         3398.000000\n",
       "驾车,酒吧,说唱         1711.000000\n",
       "驾车,酒吧,轻音乐        1623.000000\n",
       "驾车,金属,世界音乐        612.000000\n",
       "驾车,雷鬼,放松          182.000000\n",
       "Name: collection, Length: 11682, dtype: float64"
      ]
     },
     "execution_count": 29,
     "metadata": {},
     "output_type": "execute_result"
    }
   ],
   "source": [
    "'''\n",
    "不同所属分类下歌单方差\n",
    "'''\n",
    "import numpy as np\n",
    "import pandas as pd\n",
    "\n",
    "frame=pd.read_csv(\"playlist.csv\",encoding='utf-8')\n",
    "frame['collection'].astype(\"int64\")\n",
    "\n",
    "#去重\n",
    "frame2 = frame1.drop_duplicates('sheet_id',keep='first')\n",
    "frame2= frame['collection'].groupby(frame['sort']).mean()\n",
    "#frame.dtypes\n",
    "#df['Customer Number'].astype(\"int\")\n",
    "\n",
    "frame2.to_csv(\"不同分类歌单收藏数方差.csv\")\n",
    "frame2"
   ]
  },
  {
   "cell_type": "code",
   "execution_count": null,
   "metadata": {},
   "outputs": [],
   "source": [
    "# import numpy as np\n",
    "import pandas as pd\n",
    "import string\n",
    "frame = pd.read_csv('playlist_music_04.csv',low_memory=False)#把内存设置变高\n",
    "\n",
    "#del frame['Unnamed: 0'] #删除该列\n",
    "\n",
    "#frame1 = frame.sort_values(by='songId')#dataframe形式排序必须使用sort_values\n",
    "\n",
    "#去除NAN\n",
    "#如果每行最后一个字符串是',',就删除逗号\n",
    "file =open('playlist_music_04.csv',mode='r+',encoding='utf-8')\n",
    "file2=open('playlist_music_05.csv',mode='a',encoding='utf-8')\n",
    "i=0;\n",
    "while(1):\n",
    "    str = file.readline()\n",
    "    \n",
    "    print(str)\n",
    "    file2.write(str)\n",
    "    break\n",
    "    if not str:\n",
    "        break\n",
    "frame2= pd.read_csv('playlist_music_05.csv',low_memory=False)\n",
    "frame2.sort_values(by='hot')\n",
    "\n",
    "file.close()\n",
    "file2.close()"
   ]
  },
  {
   "cell_type": "code",
   "execution_count": 62,
   "metadata": {},
   "outputs": [],
   "source": [
    "import numpy as np\n",
    "import pandas as pd\n",
    "\n",
    "#frame = pd.read_csv('text_format.txt',encoding='utf-8',header=None,sep='\\t',low_memory=False)\n",
    "frame\n",
    "#按照id排序，并且去重\n",
    "#frame = frame.sort_index(by='id')\n",
    "\n",
    "#frame = frame.drop_duplicates('id',keep='first',inplace=True)\n",
    "\n",
    "\n",
    "#frame.to_csv('do_playlist_music.csv')\n",
    "\n",
    "\n",
    "file = open('text_format.txt',mode='r+',encoding='utf-8')\n",
    "fileN = open('text_format_1.txt',mode='a',encoding='utf-8')\n",
    "\n",
    "while(1):\n",
    "    str = file.readline()\n",
    "    \n",
    "    #str = str.replace(\",\",\"\\t\")\n",
    "    str.split(',')\n",
    "    #fileN.write(str)\n",
    "    \n",
    "    if not str:\n",
    "        break\n",
    "file.close()\n",
    "fileN.close()"
   ]
  },
  {
   "cell_type": "markdown",
   "metadata": {},
   "source": [
    "## 转化为csv不能手动改格式，而需要用pandas来改\n",
    "## dataframe形式排序必须使用sort_values\n",
    "## read_csv一样可以读处理好的txt文件\n",
    "## 产生Unnamed：0格式的原因，就是因为格式化没做好\n",
    "# sort_values是排值，sort_index是排参数"
   ]
  },
  {
   "cell_type": "code",
   "execution_count": 17,
   "metadata": {},
   "outputs": [
    {
     "name": "stderr",
     "output_type": "stream",
     "text": [
      "C:\\Users\\hanyu\\Anaconda3\\lib\\site-packages\\ipykernel_launcher.py:8: FutureWarning: read_table is deprecated, use read_csv instead.\n",
      "  \n",
      "C:\\Users\\hanyu\\Anaconda3\\lib\\site-packages\\ipykernel_launcher.py:18: FutureWarning: The signature of `Series.to_csv` was aligned to that of `DataFrame.to_csv`, and argument 'header' will change its default value from False to True: please pass an explicit value to suppress this warning.\n",
      "C:\\Users\\hanyu\\Anaconda3\\lib\\site-packages\\ipykernel_launcher.py:22: FutureWarning: The signature of `Series.to_csv` was aligned to that of `DataFrame.to_csv`, and argument 'header' will change its default value from False to True: please pass an explicit value to suppress this warning.\n"
     ]
    }
   ],
   "source": [
    "'''\n",
    "分析不同类别下\n",
    "'''\n",
    "import numpy as mp\n",
    "import pandas as pd\n",
    "import sys\n",
    "\n",
    "frame = pd.read_table('text_format.txt',sep='\\t',encoding='utf-8',names=['sheet_id','sheet_name','sheet_class','song_id','song_name','singer','hot'])\n",
    "frame\n",
    "\n",
    "#frame.dtypes\n",
    "\n",
    "frame['hot'].astype('float64')#有小数点，就无法变为int64\n",
    "#frame.dtypes\n",
    "\n",
    "#求均值\n",
    "frame2= frame['hot'].groupby(frame['sheet_class']).mean()\n",
    "frame2.to_csv('不同分类下歌曲热度均值-1.csv')\n",
    "\n",
    "#求方差\n",
    "frame3 = frame['hot'].groupby(frame['sheet_class']).var()\n",
    "frame3.to_csv(\"不同分类下歌曲热度方差-1.csv\")"
   ]
  },
  {
   "cell_type": "code",
   "execution_count": null,
   "metadata": {},
   "outputs": [],
   "source": []
  },
  {
   "cell_type": "code",
   "execution_count": null,
   "metadata": {},
   "outputs": [],
   "source": []
  }
 ],
 "metadata": {
  "kernelspec": {
   "display_name": "Python 3",
   "language": "python",
   "name": "python3"
  },
  "language_info": {
   "codemirror_mode": {
    "name": "ipython",
    "version": 3
   },
   "file_extension": ".py",
   "mimetype": "text/x-python",
   "name": "python",
   "nbconvert_exporter": "python",
   "pygments_lexer": "ipython3",
   "version": "3.6.6"
  }
 },
 "nbformat": 4,
 "nbformat_minor": 2
}
